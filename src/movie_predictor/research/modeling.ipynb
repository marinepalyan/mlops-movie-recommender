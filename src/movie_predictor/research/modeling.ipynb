{
 "cells": [
  {
   "cell_type": "code",
   "execution_count": 1,
   "id": "408076d6",
   "metadata": {},
   "outputs": [],
   "source": [
    "import warnings\n",
    "warnings.filterwarnings('ignore')"
   ]
  },
  {
   "cell_type": "code",
   "execution_count": 2,
   "id": "2527a10f",
   "metadata": {
    "hidden": true
   },
   "outputs": [],
   "source": [
    "import pandas as pd\n",
    "df = pd.read_csv(\"cleaned_data.csv\")"
   ]
  },
  {
   "cell_type": "markdown",
   "id": "7f6e0f9e",
   "metadata": {},
   "source": [
    "### Prediction model"
   ]
  },
  {
   "cell_type": "code",
   "execution_count": 3,
   "id": "960f5024",
   "metadata": {},
   "outputs": [],
   "source": [
    "from sklearn.neighbors import KNeighborsClassifier\n",
    "from sklearn.linear_model import LogisticRegression\n",
    "from sklearn.tree import DecisionTreeClassifier\n",
    "from sklearn.ensemble import AdaBoostClassifier\n",
    "\n",
    "from sklearn.tree import ExtraTreeRegressor\n",
    "from sklearn.ensemble import AdaBoostRegressor\n",
    "from sklearn.linear_model import Ridge\n",
    "\n",
    "from sklearn.metrics import classification_report\n",
    "from sklearn.metrics import balanced_accuracy_score\n",
    "from sklearn import metrics\n",
    "\n",
    "from sklearn.model_selection import train_test_split\n",
    "from sklearn.model_selection import GridSearchCV\n",
    "\n",
    "from sklearn.preprocessing import MinMaxScaler\n",
    "from sklearn.pipeline import make_pipeline\n",
    "\n",
    "from sklearn.preprocessing import OneHotEncoder\n",
    "\n",
    "from sklearn.compose import ColumnTransformer\n",
    "import numpy as np"
   ]
  },
  {
   "cell_type": "code",
   "execution_count": 4,
   "id": "caed3a9d",
   "metadata": {},
   "outputs": [
    {
     "data": {
      "text/html": [
       "<div>\n",
       "<style scoped>\n",
       "    .dataframe tbody tr th:only-of-type {\n",
       "        vertical-align: middle;\n",
       "    }\n",
       "\n",
       "    .dataframe tbody tr th {\n",
       "        vertical-align: top;\n",
       "    }\n",
       "\n",
       "    .dataframe thead th {\n",
       "        text-align: right;\n",
       "    }\n",
       "</style>\n",
       "<table border=\"1\" class=\"dataframe\">\n",
       "  <thead>\n",
       "    <tr style=\"text-align: right;\">\n",
       "      <th></th>\n",
       "      <th>name</th>\n",
       "      <th>rating</th>\n",
       "      <th>genre</th>\n",
       "      <th>year</th>\n",
       "      <th>score</th>\n",
       "      <th>votes</th>\n",
       "      <th>director</th>\n",
       "      <th>writer</th>\n",
       "      <th>star</th>\n",
       "      <th>country</th>\n",
       "      <th>budget</th>\n",
       "      <th>gross</th>\n",
       "      <th>runtime</th>\n",
       "    </tr>\n",
       "  </thead>\n",
       "  <tbody>\n",
       "    <tr>\n",
       "      <th>0</th>\n",
       "      <td>The Shining</td>\n",
       "      <td>R</td>\n",
       "      <td>Drama</td>\n",
       "      <td>1980</td>\n",
       "      <td>8.4</td>\n",
       "      <td>927000.0</td>\n",
       "      <td>other</td>\n",
       "      <td>Stephen King</td>\n",
       "      <td>other</td>\n",
       "      <td>United Kingdom</td>\n",
       "      <td>19000000.0</td>\n",
       "      <td>4.699877e+07</td>\n",
       "      <td>146.0</td>\n",
       "    </tr>\n",
       "    <tr>\n",
       "      <th>1</th>\n",
       "      <td>The Blue Lagoon</td>\n",
       "      <td>R</td>\n",
       "      <td>Adventure</td>\n",
       "      <td>1980</td>\n",
       "      <td>5.8</td>\n",
       "      <td>65000.0</td>\n",
       "      <td>other</td>\n",
       "      <td>other</td>\n",
       "      <td>other</td>\n",
       "      <td>United States</td>\n",
       "      <td>4500000.0</td>\n",
       "      <td>5.885311e+07</td>\n",
       "      <td>104.0</td>\n",
       "    </tr>\n",
       "    <tr>\n",
       "      <th>2</th>\n",
       "      <td>Star Wars: Episode V - The Empire Strikes Back</td>\n",
       "      <td>PG</td>\n",
       "      <td>Action</td>\n",
       "      <td>1980</td>\n",
       "      <td>8.7</td>\n",
       "      <td>1200000.0</td>\n",
       "      <td>other</td>\n",
       "      <td>other</td>\n",
       "      <td>other</td>\n",
       "      <td>United States</td>\n",
       "      <td>18000000.0</td>\n",
       "      <td>5.383751e+08</td>\n",
       "      <td>124.0</td>\n",
       "    </tr>\n",
       "    <tr>\n",
       "      <th>3</th>\n",
       "      <td>Airplane!</td>\n",
       "      <td>PG</td>\n",
       "      <td>Comedy</td>\n",
       "      <td>1980</td>\n",
       "      <td>7.7</td>\n",
       "      <td>221000.0</td>\n",
       "      <td>other</td>\n",
       "      <td>other</td>\n",
       "      <td>other</td>\n",
       "      <td>United States</td>\n",
       "      <td>3500000.0</td>\n",
       "      <td>8.345354e+07</td>\n",
       "      <td>88.0</td>\n",
       "    </tr>\n",
       "    <tr>\n",
       "      <th>4</th>\n",
       "      <td>Caddyshack</td>\n",
       "      <td>R</td>\n",
       "      <td>Comedy</td>\n",
       "      <td>1980</td>\n",
       "      <td>7.3</td>\n",
       "      <td>108000.0</td>\n",
       "      <td>other</td>\n",
       "      <td>other</td>\n",
       "      <td>other</td>\n",
       "      <td>United States</td>\n",
       "      <td>6000000.0</td>\n",
       "      <td>3.984634e+07</td>\n",
       "      <td>98.0</td>\n",
       "    </tr>\n",
       "    <tr>\n",
       "      <th>...</th>\n",
       "      <td>...</td>\n",
       "      <td>...</td>\n",
       "      <td>...</td>\n",
       "      <td>...</td>\n",
       "      <td>...</td>\n",
       "      <td>...</td>\n",
       "      <td>...</td>\n",
       "      <td>...</td>\n",
       "      <td>...</td>\n",
       "      <td>...</td>\n",
       "      <td>...</td>\n",
       "      <td>...</td>\n",
       "      <td>...</td>\n",
       "    </tr>\n",
       "    <tr>\n",
       "      <th>5482</th>\n",
       "      <td>The Call of the Wild</td>\n",
       "      <td>PG</td>\n",
       "      <td>Adventure</td>\n",
       "      <td>2020</td>\n",
       "      <td>6.8</td>\n",
       "      <td>42000.0</td>\n",
       "      <td>other</td>\n",
       "      <td>other</td>\n",
       "      <td>Harrison Ford</td>\n",
       "      <td>Canada</td>\n",
       "      <td>135000000.0</td>\n",
       "      <td>1.111055e+08</td>\n",
       "      <td>100.0</td>\n",
       "    </tr>\n",
       "    <tr>\n",
       "      <th>5483</th>\n",
       "      <td>The Eight Hundred</td>\n",
       "      <td>Not Rated</td>\n",
       "      <td>Action</td>\n",
       "      <td>2020</td>\n",
       "      <td>6.8</td>\n",
       "      <td>3700.0</td>\n",
       "      <td>other</td>\n",
       "      <td>other</td>\n",
       "      <td>other</td>\n",
       "      <td>China</td>\n",
       "      <td>80000000.0</td>\n",
       "      <td>4.614216e+08</td>\n",
       "      <td>149.0</td>\n",
       "    </tr>\n",
       "    <tr>\n",
       "      <th>5484</th>\n",
       "      <td>Star Trek First Frontier</td>\n",
       "      <td>unrated</td>\n",
       "      <td>Sci-Fi</td>\n",
       "      <td>2020</td>\n",
       "      <td>5.7</td>\n",
       "      <td>165.0</td>\n",
       "      <td>other</td>\n",
       "      <td>other</td>\n",
       "      <td>other</td>\n",
       "      <td>United States</td>\n",
       "      <td>370000.0</td>\n",
       "      <td>7.850054e+07</td>\n",
       "      <td>85.0</td>\n",
       "    </tr>\n",
       "    <tr>\n",
       "      <th>5485</th>\n",
       "      <td>Black Wall Street Burning</td>\n",
       "      <td>R</td>\n",
       "      <td>Drama</td>\n",
       "      <td>2020</td>\n",
       "      <td>6.6</td>\n",
       "      <td>35.0</td>\n",
       "      <td>other</td>\n",
       "      <td>other</td>\n",
       "      <td>other</td>\n",
       "      <td>United States</td>\n",
       "      <td>5000.0</td>\n",
       "      <td>7.850054e+07</td>\n",
       "      <td>78.0</td>\n",
       "    </tr>\n",
       "    <tr>\n",
       "      <th>5486</th>\n",
       "      <td>More to Life</td>\n",
       "      <td>unrated</td>\n",
       "      <td>Drama</td>\n",
       "      <td>2020</td>\n",
       "      <td>3.1</td>\n",
       "      <td>18.0</td>\n",
       "      <td>other</td>\n",
       "      <td>other</td>\n",
       "      <td>other</td>\n",
       "      <td>United States</td>\n",
       "      <td>7000.0</td>\n",
       "      <td>7.850054e+07</td>\n",
       "      <td>90.0</td>\n",
       "    </tr>\n",
       "  </tbody>\n",
       "</table>\n",
       "<p>5487 rows × 13 columns</p>\n",
       "</div>"
      ],
      "text/plain": [
       "                                                name     rating      genre  \\\n",
       "0                                        The Shining          R      Drama   \n",
       "1                                    The Blue Lagoon          R  Adventure   \n",
       "2     Star Wars: Episode V - The Empire Strikes Back         PG     Action   \n",
       "3                                          Airplane!         PG     Comedy   \n",
       "4                                         Caddyshack          R     Comedy   \n",
       "...                                              ...        ...        ...   \n",
       "5482                            The Call of the Wild         PG  Adventure   \n",
       "5483                               The Eight Hundred  Not Rated     Action   \n",
       "5484                        Star Trek First Frontier    unrated     Sci-Fi   \n",
       "5485                       Black Wall Street Burning          R      Drama   \n",
       "5486                                    More to Life    unrated      Drama   \n",
       "\n",
       "      year  score      votes director        writer           star  \\\n",
       "0     1980    8.4   927000.0    other  Stephen King          other   \n",
       "1     1980    5.8    65000.0    other         other          other   \n",
       "2     1980    8.7  1200000.0    other         other          other   \n",
       "3     1980    7.7   221000.0    other         other          other   \n",
       "4     1980    7.3   108000.0    other         other          other   \n",
       "...    ...    ...        ...      ...           ...            ...   \n",
       "5482  2020    6.8    42000.0    other         other  Harrison Ford   \n",
       "5483  2020    6.8     3700.0    other         other          other   \n",
       "5484  2020    5.7      165.0    other         other          other   \n",
       "5485  2020    6.6       35.0    other         other          other   \n",
       "5486  2020    3.1       18.0    other         other          other   \n",
       "\n",
       "             country       budget         gross  runtime  \n",
       "0     United Kingdom   19000000.0  4.699877e+07    146.0  \n",
       "1      United States    4500000.0  5.885311e+07    104.0  \n",
       "2      United States   18000000.0  5.383751e+08    124.0  \n",
       "3      United States    3500000.0  8.345354e+07     88.0  \n",
       "4      United States    6000000.0  3.984634e+07     98.0  \n",
       "...              ...          ...           ...      ...  \n",
       "5482          Canada  135000000.0  1.111055e+08    100.0  \n",
       "5483           China   80000000.0  4.614216e+08    149.0  \n",
       "5484   United States     370000.0  7.850054e+07     85.0  \n",
       "5485   United States       5000.0  7.850054e+07     78.0  \n",
       "5486   United States       7000.0  7.850054e+07     90.0  \n",
       "\n",
       "[5487 rows x 13 columns]"
      ]
     },
     "execution_count": 4,
     "metadata": {},
     "output_type": "execute_result"
    }
   ],
   "source": [
    "df"
   ]
  },
  {
   "cell_type": "code",
   "execution_count": 5,
   "id": "c11396e7",
   "metadata": {},
   "outputs": [],
   "source": [
    "X, y = df.drop(['name','rating'], axis = 1), df['rating']"
   ]
  },
  {
   "cell_type": "code",
   "execution_count": 6,
   "id": "5c63f38b",
   "metadata": {},
   "outputs": [],
   "source": [
    "X_train, X_test, y_train, y_test = train_test_split(X, y, test_size = 0.2)"
   ]
  },
  {
   "cell_type": "code",
   "execution_count": 7,
   "id": "dc587fdf",
   "metadata": {},
   "outputs": [],
   "source": [
    "num = list(X_train.select_dtypes('number').columns)\n",
    "cat = list(X_train.select_dtypes('category').columns)\n",
    "\n",
    "model_scale = MinMaxScaler()\n",
    "model_encoder = OneHotEncoder()\n",
    "transformer = ColumnTransformer([('num',model_scale,num),\n",
    "                                 ('cat',model_encoder,cat)])"
   ]
  },
  {
   "cell_type": "markdown",
   "id": "fa8445d0",
   "metadata": {},
   "source": [
    "#### KNeighborsClassifier"
   ]
  },
  {
   "cell_type": "code",
   "execution_count": 8,
   "id": "fbb6b272",
   "metadata": {},
   "outputs": [
    {
     "data": {
      "text/plain": [
       "GridSearchCV(cv=10, error_score=nan,\n",
       "             estimator=Pipeline(memory=None,\n",
       "                                steps=[('columntransformer',\n",
       "                                        ColumnTransformer(n_jobs=None,\n",
       "                                                          remainder='drop',\n",
       "                                                          sparse_threshold=0.3,\n",
       "                                                          transformer_weights=None,\n",
       "                                                          transformers=[('num',\n",
       "                                                                         MinMaxScaler(copy=True,\n",
       "                                                                                      feature_range=(0,\n",
       "                                                                                                     1)),\n",
       "                                                                         ['year',\n",
       "                                                                          'score',\n",
       "                                                                          'votes',\n",
       "                                                                          'budget',\n",
       "                                                                          'gross',\n",
       "                                                                          'runtime']),\n",
       "                                                                        ('cat',\n",
       "                                                                         OneHotEncoder(categories='auto',\n",
       "                                                                                       drop=N...\n",
       "                                                             leaf_size=30,\n",
       "                                                             metric='minkowski',\n",
       "                                                             metric_params=None,\n",
       "                                                             n_jobs=None,\n",
       "                                                             n_neighbors=5, p=2,\n",
       "                                                             weights='uniform'))],\n",
       "                                verbose=False),\n",
       "             iid='deprecated', n_jobs=-1,\n",
       "             param_grid={'kneighborsclassifier__n_neighbors': array([ 1,  3,  5,  7,  9, 11, 13, 15, 17, 19, 21, 23, 25, 27, 29, 31, 33,\n",
       "       35, 37, 39, 41, 43, 45, 47, 49])},\n",
       "             pre_dispatch='2*n_jobs', refit=True, return_train_score=True,\n",
       "             scoring=None, verbose=0)"
      ]
     },
     "execution_count": 8,
     "metadata": {},
     "output_type": "execute_result"
    }
   ],
   "source": [
    "model_class = KNeighborsClassifier()\n",
    "model_combined = make_pipeline(transformer, model_class)\n",
    "model_combined_optimal = GridSearchCV(model_combined,\n",
    "          param_grid = {'kneighborsclassifier__n_neighbors': np.arange(1,51,2)},\n",
    "                                     n_jobs = -1, cv = 10, return_train_score=True)\n",
    "model_combined_optimal.fit(X_train,y_train)\n",
    "model_combined_optimal"
   ]
  },
  {
   "cell_type": "code",
   "execution_count": 9,
   "id": "5a2588a1",
   "metadata": {},
   "outputs": [
    {
     "data": {
      "text/plain": [
       "{'kneighborsclassifier__n_neighbors': 25}"
      ]
     },
     "execution_count": 9,
     "metadata": {},
     "output_type": "execute_result"
    }
   ],
   "source": [
    "model_combined_optimal.best_params_"
   ]
  },
  {
   "cell_type": "code",
   "execution_count": 10,
   "id": "12865596",
   "metadata": {},
   "outputs": [
    {
     "data": {
      "text/plain": [
       "0.5905673274094326"
      ]
     },
     "execution_count": 10,
     "metadata": {},
     "output_type": "execute_result"
    }
   ],
   "source": [
    "model_combined_optimal.score(X_train,y_train)"
   ]
  },
  {
   "cell_type": "code",
   "execution_count": 11,
   "id": "b77cba4f",
   "metadata": {},
   "outputs": [
    {
     "data": {
      "text/plain": [
       "0.5537340619307832"
      ]
     },
     "execution_count": 11,
     "metadata": {},
     "output_type": "execute_result"
    }
   ],
   "source": [
    "model_combined_optimal.score(X_test,y_test)"
   ]
  },
  {
   "cell_type": "code",
   "execution_count": 12,
   "id": "3cbdccfe",
   "metadata": {},
   "outputs": [
    {
     "name": "stdout",
     "output_type": "stream",
     "text": [
      "              precision    recall  f1-score   support\n",
      "\n",
      "    Approved       0.00      0.00      0.00         1\n",
      "           G       0.75      0.03      0.07        86\n",
      "       NC-17       0.00      0.00      0.00         7\n",
      "   Not Rated       0.00      0.00      0.00        40\n",
      "          PG       0.61      0.23      0.33       751\n",
      "       PG-13       0.56      0.48      0.52      1390\n",
      "           R       0.60      0.84      0.70      2087\n",
      "       TV-MA       0.00      0.00      0.00         2\n",
      "     Unrated       0.00      0.00      0.00        12\n",
      "           X       0.00      0.00      0.00         1\n",
      "     unrated       0.00      0.00      0.00        12\n",
      "\n",
      "    accuracy                           0.59      4389\n",
      "   macro avg       0.23      0.14      0.15      4389\n",
      "weighted avg       0.58      0.59      0.55      4389\n",
      "\n"
     ]
    }
   ],
   "source": [
    "Y_predict = model_combined_optimal.predict(X_train)\n",
    "print(classification_report(y_train, Y_predict))"
   ]
  },
  {
   "cell_type": "code",
   "execution_count": 13,
   "id": "bdd14495",
   "metadata": {},
   "outputs": [
    {
     "name": "stdout",
     "output_type": "stream",
     "text": [
      "              precision    recall  f1-score   support\n",
      "\n",
      "           G       0.00      0.00      0.00        25\n",
      "       NC-17       0.00      0.00      0.00         5\n",
      "   Not Rated       0.00      0.00      0.00         8\n",
      "          PG       0.51      0.22      0.30       167\n",
      "       PG-13       0.48      0.42      0.45       341\n",
      "           R       0.59      0.79      0.67       541\n",
      "     Unrated       0.00      0.00      0.00         6\n",
      "     unrated       0.00      0.00      0.00         5\n",
      "\n",
      "    accuracy                           0.55      1098\n",
      "   macro avg       0.20      0.18      0.18      1098\n",
      "weighted avg       0.52      0.55      0.52      1098\n",
      "\n"
     ]
    }
   ],
   "source": [
    "Y_predict = model_combined_optimal.predict(X_test)\n",
    "print(classification_report(y_test, Y_predict))"
   ]
  },
  {
   "cell_type": "markdown",
   "id": "18edee5f",
   "metadata": {},
   "source": [
    "#### Tree"
   ]
  },
  {
   "cell_type": "code",
   "execution_count": 14,
   "id": "5666e639",
   "metadata": {},
   "outputs": [
    {
     "data": {
      "text/plain": [
       "Pipeline(memory=None,\n",
       "         steps=[('columntransformer',\n",
       "                 ColumnTransformer(n_jobs=None, remainder='drop',\n",
       "                                   sparse_threshold=0.3,\n",
       "                                   transformer_weights=None,\n",
       "                                   transformers=[('num',\n",
       "                                                  MinMaxScaler(copy=True,\n",
       "                                                               feature_range=(0,\n",
       "                                                                              1)),\n",
       "                                                  ['year', 'score', 'votes',\n",
       "                                                   'budget', 'gross',\n",
       "                                                   'runtime']),\n",
       "                                                 ('cat',\n",
       "                                                  OneHotEncoder(categories='auto',\n",
       "                                                                drop=None,\n",
       "                                                                dtype=<class 'numpy.float64'>,\n",
       "                                                                handle_unkno...\n",
       "                                   verbose=False)),\n",
       "                ('decisiontreeclassifier',\n",
       "                 DecisionTreeClassifier(ccp_alpha=0.0, class_weight=None,\n",
       "                                        criterion='entropy', max_depth=20,\n",
       "                                        max_features=None, max_leaf_nodes=None,\n",
       "                                        min_impurity_decrease=0.0,\n",
       "                                        min_impurity_split=None,\n",
       "                                        min_samples_leaf=2, min_samples_split=2,\n",
       "                                        min_weight_fraction_leaf=0.0,\n",
       "                                        presort='deprecated', random_state=42,\n",
       "                                        splitter='best'))],\n",
       "         verbose=False)"
      ]
     },
     "execution_count": 14,
     "metadata": {},
     "output_type": "execute_result"
    }
   ],
   "source": [
    "model_tree = DecisionTreeClassifier(random_state=42)\n",
    "model_combined = make_pipeline(transformer, model_tree)\n",
    "parameters = {'decisiontreeclassifier__criterion': ('gini','entropy'),\n",
    "              'decisiontreeclassifier__max_depth': [5, 10, 20, 30, 50, 100,1000,2000], \n",
    "              'decisiontreeclassifier__min_samples_leaf': [1,2,4,8,20,40,80,100,200]}\n",
    "scorer = metrics.make_scorer(balanced_accuracy_score)\n",
    "model_combined_optimal = GridSearchCV(model_combined,\n",
    "          param_grid = parameters, n_jobs = -1, cv = 10,  scoring=scorer, return_train_score=True)\n",
    "model_combined_optimal = model_combined_optimal.fit(X_train, y_train)\n",
    "best_model_tree = model_combined_optimal.best_estimator_\n",
    "best_model_tree"
   ]
  },
  {
   "cell_type": "code",
   "execution_count": 15,
   "id": "d002660b",
   "metadata": {},
   "outputs": [
    {
     "name": "stdout",
     "output_type": "stream",
     "text": [
      "              precision    recall  f1-score   support\n",
      "\n",
      "    Approved       0.50      1.00      0.67         1\n",
      "           G       0.75      0.92      0.82        86\n",
      "       NC-17       0.62      0.71      0.67         7\n",
      "   Not Rated       0.61      0.95      0.75        40\n",
      "          PG       0.82      0.96      0.88       751\n",
      "       PG-13       0.89      0.92      0.91      1390\n",
      "           R       0.97      0.88      0.92      2087\n",
      "       TV-MA       0.00      0.00      0.00         2\n",
      "     Unrated       1.00      0.33      0.50        12\n",
      "           X       0.00      0.00      0.00         1\n",
      "     unrated       0.83      0.42      0.56        12\n",
      "\n",
      "    accuracy                           0.90      4389\n",
      "   macro avg       0.64      0.64      0.61      4389\n",
      "weighted avg       0.91      0.90      0.90      4389\n",
      "\n"
     ]
    }
   ],
   "source": [
    "Y_predict = best_model_tree.predict(X_train)\n",
    "print(classification_report(y_train, Y_predict))"
   ]
  },
  {
   "cell_type": "code",
   "execution_count": 16,
   "id": "39216669",
   "metadata": {},
   "outputs": [
    {
     "name": "stdout",
     "output_type": "stream",
     "text": [
      "              precision    recall  f1-score   support\n",
      "\n",
      "           G       0.24      0.32      0.28        25\n",
      "       NC-17       0.00      0.00      0.00         5\n",
      "   Not Rated       0.11      0.25      0.15         8\n",
      "          PG       0.28      0.37      0.32       167\n",
      "       PG-13       0.41      0.41      0.41       341\n",
      "           R       0.61      0.54      0.57       541\n",
      "     Unrated       0.00      0.00      0.00         6\n",
      "     unrated       0.00      0.00      0.00         5\n",
      "\n",
      "    accuracy                           0.46      1098\n",
      "   macro avg       0.21      0.24      0.22      1098\n",
      "weighted avg       0.48      0.46      0.47      1098\n",
      "\n"
     ]
    }
   ],
   "source": [
    "Y_predict = best_model_tree.predict(X_test)\n",
    "print(classification_report(y_test, Y_predict))"
   ]
  },
  {
   "cell_type": "markdown",
   "id": "c1b8bc9a",
   "metadata": {},
   "source": [
    "#### Logistic Regression"
   ]
  },
  {
   "cell_type": "code",
   "execution_count": 17,
   "id": "53355fb4",
   "metadata": {},
   "outputs": [],
   "source": [
    "lr = LogisticRegression(penalty='none', max_iter=5000)\n",
    "model_combined = make_pipeline(transformer, lr)\n",
    "grid={\"logisticregression__C\":np.logspace(-3,3,7)}\n",
    "scorer = metrics.make_scorer(balanced_accuracy_score)\n",
    "clf = GridSearchCV(model_combined,\n",
    "          param_grid = grid, n_jobs = -1, cv = 10,  scoring=scorer, return_train_score=True)\n",
    "best_lr = clf.fit(X_train, y_train)"
   ]
  },
  {
   "cell_type": "code",
   "execution_count": 18,
   "id": "dc8f2075",
   "metadata": {},
   "outputs": [
    {
     "name": "stdout",
     "output_type": "stream",
     "text": [
      "              precision    recall  f1-score   support\n",
      "\n",
      "    Approved       1.00      1.00      1.00         1\n",
      "           G       0.54      0.16      0.25        86\n",
      "       NC-17       0.00      0.00      0.00         7\n",
      "   Not Rated       0.00      0.00      0.00        40\n",
      "          PG       0.50      0.14      0.21       751\n",
      "       PG-13       0.53      0.37      0.43      1390\n",
      "           R       0.56      0.86      0.68      2087\n",
      "       TV-MA       1.00      0.50      0.67         2\n",
      "     Unrated       0.00      0.00      0.00        12\n",
      "           X       0.00      0.00      0.00         1\n",
      "     unrated       0.00      0.00      0.00        12\n",
      "\n",
      "    accuracy                           0.55      4389\n",
      "   macro avg       0.38      0.28      0.30      4389\n",
      "weighted avg       0.53      0.55      0.50      4389\n",
      "\n"
     ]
    }
   ],
   "source": [
    "Y_predict = best_lr.predict(X_train)\n",
    "print(classification_report(y_train, Y_predict))"
   ]
  },
  {
   "cell_type": "code",
   "execution_count": 19,
   "id": "42ea200a",
   "metadata": {},
   "outputs": [
    {
     "name": "stdout",
     "output_type": "stream",
     "text": [
      "              precision    recall  f1-score   support\n",
      "\n",
      "           G       0.70      0.28      0.40        25\n",
      "       NC-17       0.00      0.00      0.00         5\n",
      "   Not Rated       0.00      0.00      0.00         8\n",
      "          PG       0.42      0.12      0.19       167\n",
      "       PG-13       0.56      0.37      0.44       341\n",
      "           R       0.58      0.87      0.70       541\n",
      "     Unrated       0.00      0.00      0.00         6\n",
      "     unrated       0.00      0.00      0.00         5\n",
      "\n",
      "    accuracy                           0.57      1098\n",
      "   macro avg       0.28      0.21      0.22      1098\n",
      "weighted avg       0.54      0.57      0.52      1098\n",
      "\n"
     ]
    }
   ],
   "source": [
    "Y_predict = best_lr.predict(X_test)\n",
    "print(classification_report(y_test, Y_predict))"
   ]
  },
  {
   "cell_type": "markdown",
   "id": "6eff33ff",
   "metadata": {},
   "source": [
    "#### AdaBoostClassifier"
   ]
  },
  {
   "cell_type": "code",
   "execution_count": 20,
   "id": "64b82206",
   "metadata": {},
   "outputs": [
    {
     "data": {
      "text/plain": [
       "Pipeline(memory=None,\n",
       "         steps=[('columntransformer',\n",
       "                 ColumnTransformer(n_jobs=None, remainder='drop',\n",
       "                                   sparse_threshold=0.3,\n",
       "                                   transformer_weights=None,\n",
       "                                   transformers=[('num',\n",
       "                                                  MinMaxScaler(copy=True,\n",
       "                                                               feature_range=(0,\n",
       "                                                                              1)),\n",
       "                                                  ['year', 'score', 'votes',\n",
       "                                                   'budget', 'gross',\n",
       "                                                   'runtime']),\n",
       "                                                 ('cat',\n",
       "                                                  OneHotEncoder(categories='auto',\n",
       "                                                                drop=None,\n",
       "                                                                dtype=<class 'numpy.float64'>,\n",
       "                                                                handle_unkno...\n",
       "                                    base_estimator=DecisionTreeClassifier(ccp_alpha=0.0,\n",
       "                                                                          class_weight=None,\n",
       "                                                                          criterion='gini',\n",
       "                                                                          max_depth=None,\n",
       "                                                                          max_features=None,\n",
       "                                                                          max_leaf_nodes=None,\n",
       "                                                                          min_impurity_decrease=0.0,\n",
       "                                                                          min_impurity_split=None,\n",
       "                                                                          min_samples_leaf=1,\n",
       "                                                                          min_samples_split=2,\n",
       "                                                                          min_weight_fraction_leaf=0.0,\n",
       "                                                                          presort='deprecated',\n",
       "                                                                          random_state=None,\n",
       "                                                                          splitter='best'),\n",
       "                                    learning_rate=1.0, n_estimators=1,\n",
       "                                    random_state=None))],\n",
       "         verbose=False)"
      ]
     },
     "execution_count": 20,
     "metadata": {},
     "output_type": "execute_result"
    }
   ],
   "source": [
    "mod_ada = AdaBoostClassifier(DecisionTreeClassifier())\n",
    "model_combined = make_pipeline(transformer, mod_ada)\n",
    "n_estimators = [int(x) for x in np.linspace(start = 1, stop = 30, num = 1)]\n",
    "parameters = {'adaboostclassifier__n_estimators': n_estimators\n",
    "             }\n",
    "model_combined_optimal = GridSearchCV(model_combined,\n",
    "          param_grid = parameters, n_jobs = -1, cv = 10,  scoring=scorer, return_train_score=True)\n",
    "model_combined_optimal = model_combined_optimal.fit(X_train, y_train)\n",
    "best_model_tree = model_combined_optimal.best_estimator_\n",
    "best_model_tree"
   ]
  },
  {
   "cell_type": "code",
   "execution_count": 21,
   "id": "89b2bebd",
   "metadata": {},
   "outputs": [
    {
     "name": "stdout",
     "output_type": "stream",
     "text": [
      "              precision    recall  f1-score   support\n",
      "\n",
      "    Approved       1.00      1.00      1.00         1\n",
      "           G       1.00      1.00      1.00        86\n",
      "       NC-17       1.00      1.00      1.00         7\n",
      "   Not Rated       1.00      1.00      1.00        40\n",
      "          PG       1.00      1.00      1.00       751\n",
      "       PG-13       1.00      1.00      1.00      1390\n",
      "           R       1.00      1.00      1.00      2087\n",
      "       TV-MA       1.00      1.00      1.00         2\n",
      "     Unrated       1.00      1.00      1.00        12\n",
      "           X       1.00      1.00      1.00         1\n",
      "     unrated       1.00      1.00      1.00        12\n",
      "\n",
      "    accuracy                           1.00      4389\n",
      "   macro avg       1.00      1.00      1.00      4389\n",
      "weighted avg       1.00      1.00      1.00      4389\n",
      "\n"
     ]
    }
   ],
   "source": [
    "Y_predict = best_model_tree.predict(X_train)\n",
    "print(classification_report(y_train, Y_predict))"
   ]
  },
  {
   "cell_type": "code",
   "execution_count": 22,
   "id": "fd6b1d46",
   "metadata": {
    "scrolled": true
   },
   "outputs": [
    {
     "name": "stdout",
     "output_type": "stream",
     "text": [
      "              precision    recall  f1-score   support\n",
      "\n",
      "           G       0.25      0.28      0.26        25\n",
      "       NC-17       0.00      0.00      0.00         5\n",
      "   Not Rated       0.00      0.00      0.00         8\n",
      "          PG       0.32      0.33      0.32       167\n",
      "       PG-13       0.46      0.48      0.47       341\n",
      "           R       0.62      0.59      0.60       541\n",
      "     Unrated       0.25      0.17      0.20         6\n",
      "     unrated       0.00      0.00      0.00         5\n",
      "\n",
      "    accuracy                           0.49      1098\n",
      "   macro avg       0.24      0.23      0.23      1098\n",
      "weighted avg       0.50      0.49      0.50      1098\n",
      "\n"
     ]
    }
   ],
   "source": [
    "Y_predict = best_model_tree.predict(X_test)\n",
    "print(classification_report(y_test, Y_predict))"
   ]
  },
  {
   "cell_type": "markdown",
   "id": "830cc99b",
   "metadata": {},
   "source": [
    "#### Keeping only good features by intuition"
   ]
  },
  {
   "cell_type": "code",
   "execution_count": 23,
   "id": "dbd279e7",
   "metadata": {},
   "outputs": [],
   "source": [
    "X, y = df.drop(['name','rating', 'writer','star', 'director', 'country'], axis = 1), df['rating']"
   ]
  },
  {
   "cell_type": "code",
   "execution_count": 24,
   "id": "e113d90b",
   "metadata": {},
   "outputs": [],
   "source": [
    "X_train, X_test, y_train, y_test = train_test_split(X, y, test_size = 0.2)"
   ]
  },
  {
   "cell_type": "code",
   "execution_count": 25,
   "id": "b3a9ff45",
   "metadata": {},
   "outputs": [],
   "source": [
    "num = list(X_train.select_dtypes('number').columns)\n",
    "cat = list(X_train.select_dtypes('category').columns)\n",
    "\n",
    "model_scale = MinMaxScaler()\n",
    "model_encoder = OneHotEncoder()\n",
    "transformer = ColumnTransformer([('num',model_scale,num),\n",
    "                                 ('cat',model_encoder,cat)])\n",
    "\n",
    "lr = LogisticRegression(penalty='none', max_iter=5000)\n",
    "model_combined = make_pipeline(transformer, lr)\n",
    "grid={\"logisticregression__C\":np.logspace(-3,3,7)}\n",
    "scorer = metrics.make_scorer(balanced_accuracy_score)\n",
    "clf = GridSearchCV(model_combined,\n",
    "          param_grid = grid, n_jobs = -1, cv = 10,  scoring=scorer, return_train_score=True)\n",
    "best_lr = clf.fit(X_train, y_train)"
   ]
  },
  {
   "cell_type": "code",
   "execution_count": 26,
   "id": "bdcbe251",
   "metadata": {},
   "outputs": [
    {
     "name": "stdout",
     "output_type": "stream",
     "text": [
      "              precision    recall  f1-score   support\n",
      "\n",
      "    Approved       1.00      1.00      1.00         1\n",
      "           G       0.53      0.21      0.30        92\n",
      "       NC-17       0.00      0.00      0.00         9\n",
      "   Not Rated       0.00      0.00      0.00        42\n",
      "          PG       0.48      0.12      0.19       739\n",
      "       PG-13       0.54      0.37      0.44      1387\n",
      "           R       0.57      0.87      0.69      2092\n",
      "       TV-MA       1.00      0.50      0.67         2\n",
      "     Unrated       0.00      0.00      0.00        12\n",
      "           X       0.00      0.00      0.00         1\n",
      "     unrated       0.00      0.00      0.00        12\n",
      "\n",
      "    accuracy                           0.56      4389\n",
      "   macro avg       0.37      0.28      0.30      4389\n",
      "weighted avg       0.53      0.56      0.51      4389\n",
      "\n"
     ]
    }
   ],
   "source": [
    "Y_predict = best_lr.predict(X_train)\n",
    "print(classification_report(y_train, Y_predict))"
   ]
  },
  {
   "cell_type": "code",
   "execution_count": 27,
   "id": "2fab2456",
   "metadata": {},
   "outputs": [
    {
     "name": "stdout",
     "output_type": "stream",
     "text": [
      "              precision    recall  f1-score   support\n",
      "\n",
      "           G       0.45      0.26      0.33        19\n",
      "       NC-17       0.00      0.00      0.00         3\n",
      "   Not Rated       0.00      0.00      0.00         6\n",
      "          PG       0.55      0.12      0.19       179\n",
      "       PG-13       0.50      0.39      0.44       344\n",
      "           R       0.56      0.82      0.67       536\n",
      "     Unrated       0.00      0.00      0.00         6\n",
      "     unrated       0.00      0.00      0.00         5\n",
      "\n",
      "    accuracy                           0.55      1098\n",
      "   macro avg       0.26      0.20      0.20      1098\n",
      "weighted avg       0.53      0.55      0.50      1098\n",
      "\n"
     ]
    }
   ],
   "source": [
    "Y_predict = best_lr.predict(X_test)\n",
    "print(classification_report(y_test, Y_predict))"
   ]
  },
  {
   "cell_type": "code",
   "execution_count": 28,
   "id": "f3153a4a",
   "metadata": {},
   "outputs": [],
   "source": [
    "## 2"
   ]
  },
  {
   "cell_type": "code",
   "execution_count": 29,
   "id": "9269a4d0",
   "metadata": {},
   "outputs": [
    {
     "name": "stdout",
     "output_type": "stream",
     "text": [
      "              precision    recall  f1-score   support\n",
      "\n",
      "    Approved       1.00      1.00      1.00         1\n",
      "           G       1.00      1.00      1.00        92\n",
      "       NC-17       1.00      1.00      1.00         9\n",
      "   Not Rated       1.00      1.00      1.00        42\n",
      "          PG       1.00      1.00      1.00       739\n",
      "       PG-13       1.00      1.00      1.00      1387\n",
      "           R       1.00      1.00      1.00      2092\n",
      "       TV-MA       1.00      1.00      1.00         2\n",
      "     Unrated       1.00      1.00      1.00        12\n",
      "           X       1.00      1.00      1.00         1\n",
      "     unrated       1.00      1.00      1.00        12\n",
      "\n",
      "    accuracy                           1.00      4389\n",
      "   macro avg       1.00      1.00      1.00      4389\n",
      "weighted avg       1.00      1.00      1.00      4389\n",
      "\n",
      "              precision    recall  f1-score   support\n",
      "\n",
      "           G       0.32      0.42      0.36        19\n",
      "       NC-17       0.00      0.00      0.00         3\n",
      "   Not Rated       0.00      0.00      0.00         6\n",
      "          PG       0.35      0.34      0.34       179\n",
      "       PG-13       0.39      0.42      0.40       344\n",
      "           R       0.60      0.57      0.58       536\n",
      "     Unrated       0.17      0.17      0.17         6\n",
      "     unrated       0.00      0.00      0.00         5\n",
      "\n",
      "    accuracy                           0.47      1098\n",
      "   macro avg       0.23      0.24      0.23      1098\n",
      "weighted avg       0.48      0.47      0.47      1098\n",
      "\n"
     ]
    }
   ],
   "source": [
    "mod_ada = AdaBoostClassifier(DecisionTreeClassifier())\n",
    "model_combined = make_pipeline(transformer, mod_ada)\n",
    "n_estimators = [int(x) for x in np.linspace(start = 1, stop = 30, num = 1)]\n",
    "parameters = {'adaboostclassifier__n_estimators': n_estimators\n",
    "             }\n",
    "model_combined_optimal = GridSearchCV(model_combined,\n",
    "          param_grid = parameters, n_jobs = -1, cv = 10,  scoring=scorer, return_train_score=True)\n",
    "model_combined_optimal = model_combined_optimal.fit(X_train, y_train)\n",
    "best_model_tree = model_combined_optimal.best_estimator_\n",
    "best_model_tree\n",
    "\n",
    "Y_predict = best_model_tree.predict(X_train)\n",
    "print(classification_report(y_train, Y_predict))\n",
    "\n",
    "Y_predict = best_model_tree.predict(X_test)\n",
    "print(classification_report(y_test, Y_predict))"
   ]
  },
  {
   "cell_type": "markdown",
   "id": "5b35857a",
   "metadata": {},
   "source": [
    "#### Regression"
   ]
  },
  {
   "cell_type": "code",
   "execution_count": 30,
   "id": "c72d9d32",
   "metadata": {},
   "outputs": [],
   "source": [
    "X, y = df.drop(['name','gross', 'year', 'score', 'runtime'], axis = 1), df['gross'] # removed low correlated ones"
   ]
  },
  {
   "cell_type": "code",
   "execution_count": 31,
   "id": "7a2d012c",
   "metadata": {},
   "outputs": [],
   "source": [
    "X_train, X_test, y_train, y_test = train_test_split(X, y, test_size = 0.2)"
   ]
  },
  {
   "cell_type": "code",
   "execution_count": 32,
   "id": "8e374040",
   "metadata": {},
   "outputs": [
    {
     "data": {
      "text/plain": [
       "Pipeline(memory=None,\n",
       "         steps=[('columntransformer',\n",
       "                 ColumnTransformer(n_jobs=None, remainder='drop',\n",
       "                                   sparse_threshold=0.3,\n",
       "                                   transformer_weights=None,\n",
       "                                   transformers=[('num',\n",
       "                                                  MinMaxScaler(copy=True,\n",
       "                                                               feature_range=(0,\n",
       "                                                                              1)),\n",
       "                                                  ['votes', 'budget']),\n",
       "                                                 ('cat',\n",
       "                                                  OneHotEncoder(categories='auto',\n",
       "                                                                drop=None,\n",
       "                                                                dtype=<class 'numpy.float64'>,\n",
       "                                                                handle_unknown='error',\n",
       "                                                                sparse=True),\n",
       "                                                  [])],\n",
       "                                   verb...\n",
       "                 AdaBoostRegressor(base_estimator=ExtraTreeRegressor(ccp_alpha=0.0,\n",
       "                                                                     criterion='mse',\n",
       "                                                                     max_depth=None,\n",
       "                                                                     max_features='auto',\n",
       "                                                                     max_leaf_nodes=None,\n",
       "                                                                     min_impurity_decrease=0.0,\n",
       "                                                                     min_impurity_split=None,\n",
       "                                                                     min_samples_leaf=1,\n",
       "                                                                     min_samples_split=2,\n",
       "                                                                     min_weight_fraction_leaf=0.0,\n",
       "                                                                     random_state=None,\n",
       "                                                                     splitter='random'),\n",
       "                                   learning_rate=1.0, loss='linear',\n",
       "                                   n_estimators=1, random_state=None))],\n",
       "         verbose=False)"
      ]
     },
     "execution_count": 32,
     "metadata": {},
     "output_type": "execute_result"
    }
   ],
   "source": [
    "num = list(X_train.select_dtypes('number').columns)\n",
    "cat = list(X_train.select_dtypes('category').columns)\n",
    "\n",
    "model_scale = MinMaxScaler()\n",
    "model_encoder = OneHotEncoder()\n",
    "transformer = ColumnTransformer([('num',model_scale,num),\n",
    "                                 ('cat',model_encoder,cat)])\n",
    "\n",
    "mod_ada_2 = AdaBoostRegressor(ExtraTreeRegressor()) # base_estimator=None by default\n",
    "model_combined = make_pipeline(transformer, mod_ada_2)\n",
    "\n",
    "n_estimators = [int(x) for x in np.linspace(start = 1, stop = 30, num = 1)]\n",
    "parameters = {'adaboostregressor__n_estimators': n_estimators\n",
    "             }\n",
    "gridCV= GridSearchCV(mod_ada_2, parameters, cv=10)\n",
    "model_combined_optimal = GridSearchCV(model_combined,\n",
    "          param_grid = parameters, n_jobs = -1, cv = 10, return_train_score=True)\n",
    "model_combined_optimal = model_combined_optimal.fit(X_train, y_train)\n",
    "best_model_extra = model_combined_optimal.best_estimator_\n",
    "best_model_extra"
   ]
  },
  {
   "cell_type": "code",
   "execution_count": 33,
   "id": "0bb4ef4b",
   "metadata": {},
   "outputs": [
    {
     "data": {
      "text/plain": [
       "0.7822950744891555"
      ]
     },
     "execution_count": 33,
     "metadata": {},
     "output_type": "execute_result"
    }
   ],
   "source": [
    "best_model_extra.score(X_train,y_train)"
   ]
  },
  {
   "cell_type": "code",
   "execution_count": 34,
   "id": "12fd3040",
   "metadata": {},
   "outputs": [
    {
     "data": {
      "text/plain": [
       "0.4652897896689281"
      ]
     },
     "execution_count": 34,
     "metadata": {},
     "output_type": "execute_result"
    }
   ],
   "source": [
    "best_model_extra.score(X_test,y_test)"
   ]
  },
  {
   "cell_type": "markdown",
   "id": "f490aae2",
   "metadata": {},
   "source": [
    "#### Ridge regression"
   ]
  },
  {
   "cell_type": "code",
   "execution_count": 35,
   "id": "d598ac08",
   "metadata": {},
   "outputs": [
    {
     "data": {
      "text/plain": [
       "GridSearchCV(cv=None, error_score=nan,\n",
       "             estimator=Pipeline(memory=None,\n",
       "                                steps=[('columntransformer',\n",
       "                                        ColumnTransformer(n_jobs=None,\n",
       "                                                          remainder='drop',\n",
       "                                                          sparse_threshold=0.3,\n",
       "                                                          transformer_weights=None,\n",
       "                                                          transformers=[('num',\n",
       "                                                                         MinMaxScaler(copy=True,\n",
       "                                                                                      feature_range=(0,\n",
       "                                                                                                     1)),\n",
       "                                                                         ['votes',\n",
       "                                                                          'budget']),\n",
       "                                                                        ('cat',\n",
       "                                                                         OneHotEncoder(categories='auto',\n",
       "                                                                                       drop=None,\n",
       "                                                                                       dtype=<class 'numpy.float64'...\n",
       "       3.26530959e+01, 3.36735020e+01, 3.46939082e+01, 3.57143143e+01,\n",
       "       3.67347204e+01, 3.77551265e+01, 3.87755327e+01, 3.97959388e+01,\n",
       "       4.08163449e+01, 4.18367510e+01, 4.28571571e+01, 4.38775633e+01,\n",
       "       4.48979694e+01, 4.59183755e+01, 4.69387816e+01, 4.79591878e+01,\n",
       "       4.89795939e+01, 5.00000000e+01])},\n",
       "             pre_dispatch='2*n_jobs', refit=True, return_train_score=False,\n",
       "             scoring=None, verbose=0)"
      ]
     },
     "execution_count": 35,
     "metadata": {},
     "output_type": "execute_result"
    }
   ],
   "source": [
    "model_scale = MinMaxScaler()\n",
    "model_ridge = Ridge()\n",
    "model_encoder = OneHotEncoder()\n",
    "num = list(X_train.select_dtypes('number').columns)\n",
    "cat = list(X_train.select_dtypes('category').columns)\n",
    "transformer = ColumnTransformer([('num',model_scale,num),\n",
    "                                 ('cat',model_encoder,cat)])\n",
    "model_combined = make_pipeline(transformer, model_ridge)\n",
    "alpha_grid = np.linspace(0.0001, 50, 50)\n",
    "model_combined_optimal = GridSearchCV(model_combined, \n",
    "                             param_grid = {'ridge__alpha': np.linspace(0.0001, 50, 50)})\n",
    "model_combined_optimal.fit(X_train,y_train)"
   ]
  },
  {
   "cell_type": "code",
   "execution_count": 36,
   "id": "ce0ab183",
   "metadata": {},
   "outputs": [
    {
     "data": {
      "text/plain": [
       "{'ridge__alpha': 0.0001}"
      ]
     },
     "execution_count": 36,
     "metadata": {},
     "output_type": "execute_result"
    }
   ],
   "source": [
    "model_combined_optimal.best_params_"
   ]
  },
  {
   "cell_type": "code",
   "execution_count": 37,
   "id": "cc7c7d17",
   "metadata": {},
   "outputs": [
    {
     "data": {
      "text/plain": [
       "0.6651766630546422"
      ]
     },
     "execution_count": 37,
     "metadata": {},
     "output_type": "execute_result"
    }
   ],
   "source": [
    "model_combined_optimal.score(X_train,y_train)"
   ]
  },
  {
   "cell_type": "code",
   "execution_count": 38,
   "id": "17c0904f",
   "metadata": {},
   "outputs": [
    {
     "data": {
      "text/plain": [
       "0.5945967337938072"
      ]
     },
     "execution_count": 38,
     "metadata": {},
     "output_type": "execute_result"
    }
   ],
   "source": [
    "model_combined_optimal.score(X_test,y_test)"
   ]
  },
  {
   "cell_type": "markdown",
   "id": "82faa3aa",
   "metadata": {},
   "source": [
    "#### Ridge regression reduced params"
   ]
  },
  {
   "cell_type": "code",
   "execution_count": 4,
   "id": "852353d7",
   "metadata": {},
   "outputs": [],
   "source": [
    "X, y = df.drop(['name','gross', 'year', 'score', 'runtime', 'writer'], axis = 1), df['gross'] \n",
    "X_train, X_test, y_train, y_test = train_test_split(X, y, test_size = 0.2)"
   ]
  },
  {
   "cell_type": "code",
   "execution_count": 5,
   "id": "4715172b",
   "metadata": {},
   "outputs": [
    {
     "data": {
      "text/plain": [
       "GridSearchCV(cv=None, error_score=nan,\n",
       "             estimator=Pipeline(memory=None,\n",
       "                                steps=[('columntransformer',\n",
       "                                        ColumnTransformer(n_jobs=None,\n",
       "                                                          remainder='drop',\n",
       "                                                          sparse_threshold=0.3,\n",
       "                                                          transformer_weights=None,\n",
       "                                                          transformers=[('num',\n",
       "                                                                         MinMaxScaler(copy=True,\n",
       "                                                                                      feature_range=(0,\n",
       "                                                                                                     1)),\n",
       "                                                                         ['votes',\n",
       "                                                                          'budget']),\n",
       "                                                                        ('cat',\n",
       "                                                                         OneHotEncoder(categories='auto',\n",
       "                                                                                       drop=None,\n",
       "                                                                                       dtype=<class 'numpy.float64'...\n",
       "       6.53095918e-01, 6.73502041e-01, 6.93908163e-01, 7.14314286e-01,\n",
       "       7.34720408e-01, 7.55126531e-01, 7.75532653e-01, 7.95938776e-01,\n",
       "       8.16344898e-01, 8.36751020e-01, 8.57157143e-01, 8.77563265e-01,\n",
       "       8.97969388e-01, 9.18375510e-01, 9.38781633e-01, 9.59187755e-01,\n",
       "       9.79593878e-01, 1.00000000e+00])},\n",
       "             pre_dispatch='2*n_jobs', refit=True, return_train_score=False,\n",
       "             scoring=None, verbose=0)"
      ]
     },
     "execution_count": 5,
     "metadata": {},
     "output_type": "execute_result"
    }
   ],
   "source": [
    "model_scale = MinMaxScaler()\n",
    "model_ridge = Ridge()\n",
    "model_encoder = OneHotEncoder()\n",
    "num = list(X_train.select_dtypes('number').columns)\n",
    "cat = list(X_train.select_dtypes('category').columns)\n",
    "transformer = ColumnTransformer([('num',model_scale,num),\n",
    "                                 ('cat',model_encoder,cat)])\n",
    "model_combined = make_pipeline(transformer, model_ridge)\n",
    "alpha_grid = np.linspace(0.0001, 50, 50)\n",
    "model_combined_optimal = GridSearchCV(model_combined, \n",
    "                             param_grid = {'ridge__alpha': np.linspace(0.0001, 1, 50)})\n",
    "model_combined_optimal.fit(X_train,y_train)"
   ]
  },
  {
   "cell_type": "code",
   "execution_count": 6,
   "id": "0a73e857",
   "metadata": {},
   "outputs": [
    {
     "data": {
      "text/plain": [
       "{'ridge__alpha': 0.8367510204081633}"
      ]
     },
     "execution_count": 6,
     "metadata": {},
     "output_type": "execute_result"
    }
   ],
   "source": [
    "model_combined_optimal.best_params_"
   ]
  },
  {
   "cell_type": "code",
   "execution_count": 7,
   "id": "fe921689",
   "metadata": {},
   "outputs": [
    {
     "data": {
      "text/plain": [
       "0.6602228106048932"
      ]
     },
     "execution_count": 7,
     "metadata": {},
     "output_type": "execute_result"
    }
   ],
   "source": [
    "model_combined_optimal.score(X_train,y_train)"
   ]
  },
  {
   "cell_type": "code",
   "execution_count": 8,
   "id": "229886a4",
   "metadata": {},
   "outputs": [
    {
     "data": {
      "text/plain": [
       "0.6238786684810974"
      ]
     },
     "execution_count": 8,
     "metadata": {},
     "output_type": "execute_result"
    }
   ],
   "source": [
    "model_combined_optimal.score(X_test,y_test)"
   ]
  },
  {
   "cell_type": "code",
   "execution_count": 11,
   "id": "bfaef8c2",
   "metadata": {},
   "outputs": [
    {
     "data": {
      "text/plain": [
       "{'columntransformer': ColumnTransformer(n_jobs=None, remainder='drop', sparse_threshold=0.3,\n",
       "                   transformer_weights=None,\n",
       "                   transformers=[('num',\n",
       "                                  MinMaxScaler(copy=True, feature_range=(0, 1)),\n",
       "                                  ['votes', 'budget']),\n",
       "                                 ('cat',\n",
       "                                  OneHotEncoder(categories='auto', drop=None,\n",
       "                                                dtype=<class 'numpy.float64'>,\n",
       "                                                handle_unknown='error',\n",
       "                                                sparse=True),\n",
       "                                  [])],\n",
       "                   verbose=False),\n",
       " 'ridge': Ridge(alpha=0.8367510204081633, copy_X=True, fit_intercept=True, max_iter=None,\n",
       "       normalize=False, random_state=None, solver='auto', tol=0.001)}"
      ]
     },
     "execution_count": 11,
     "metadata": {},
     "output_type": "execute_result"
    }
   ],
   "source": [
    "model_combined_optimal.best_estimator_.named_steps"
   ]
  },
  {
   "cell_type": "markdown",
   "id": "7334ae27",
   "metadata": {},
   "source": [
    "# Save final results"
   ]
  },
  {
   "cell_type": "code",
   "execution_count": 9,
   "id": "05b00c06",
   "metadata": {},
   "outputs": [],
   "source": [
    "import pickle"
   ]
  },
  {
   "cell_type": "code",
   "execution_count": 12,
   "id": "76b13e07",
   "metadata": {},
   "outputs": [],
   "source": [
    "with open('model.pkl','wb') as f:\n",
    "    pickle.dump(model_combined_optimal.best_estimator_,f)"
   ]
  },
  {
   "cell_type": "code",
   "execution_count": null,
   "id": "d56bc9ed",
   "metadata": {},
   "outputs": [],
   "source": []
  }
 ],
 "metadata": {
  "kernelspec": {
   "display_name": "Python 3",
   "language": "python",
   "name": "python3"
  },
  "language_info": {
   "codemirror_mode": {
    "name": "ipython",
    "version": 3
   },
   "file_extension": ".py",
   "mimetype": "text/x-python",
   "name": "python",
   "nbconvert_exporter": "python",
   "pygments_lexer": "ipython3",
   "version": "3.8.12"
  }
 },
 "nbformat": 4,
 "nbformat_minor": 5
}
