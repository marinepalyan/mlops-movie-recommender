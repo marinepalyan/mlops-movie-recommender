{
 "cells": [
  {
   "cell_type": "markdown",
   "metadata": {},
   "source": [
    "#### Ridge for 'score' prediction"
   ]
  },
  {
   "cell_type": "code",
   "execution_count": 104,
   "metadata": {},
   "outputs": [],
   "source": [
    "import pandas as pd\n",
    "df = pd.read_csv(\"./cleaned_data.csv\")\n",
    "\n",
    "from sklearn.linear_model import Ridge\n",
    "\n",
    "from sklearn.metrics import classification_report\n",
    "from sklearn import metrics\n",
    "\n",
    "from sklearn.model_selection import train_test_split\n",
    "from sklearn.model_selection import GridSearchCV\n",
    "\n",
    "from sklearn.pipeline import make_pipeline\n",
    "\n",
    "\n",
    "from sklearn.preprocessing import OneHotEncoder\n",
    "from sklearn.compose import ColumnTransformer\n",
    "\n",
    "import numpy as np"
   ]
  },
  {
   "cell_type": "code",
   "execution_count": 105,
   "metadata": {},
   "outputs": [],
   "source": [
    "X, y = df.drop(['name', 'year', 'score'], axis = 1), df['score']\n",
    "\n",
    "X['rating'] = X['rating'].astype('category')\n",
    "X['genre'] = X['genre'].astype('category')\n",
    "X['director'] = X['director'].astype('category')\n",
    "X['writer'] = X['writer'].astype('category')\n",
    "X['star'] = X['star'].astype('category')\n",
    "X['country'] = X['country'].astype('category')\n",
    "\n",
    "X_train, X_test, y_train, y_test = train_test_split(X, y, test_size = 0.2)"
   ]
  },
  {
   "cell_type": "code",
   "execution_count": 108,
   "metadata": {},
   "outputs": [
    {
     "name": "stderr",
     "output_type": "stream",
     "text": [
      "<ipython-input-108-fe0668a5d703>:6: SettingWithCopyWarning: \n",
      "A value is trying to be set on a copy of a slice from a DataFrame.\n",
      "Try using .loc[row_indexer,col_indexer] = value instead\n",
      "\n",
      "See the caveats in the documentation: https://pandas.pydata.org/pandas-docs/stable/user_guide/indexing.html#returning-a-view-versus-a-copy\n",
      "  num_scaled[i] = num_scaled[i].apply(lambda x: (x - num_scaled[i].min())/(num_scaled[i].max() - num_scaled[i].min()))\n"
     ]
    }
   ],
   "source": [
    "num = list(X_train.select_dtypes('number').columns)\n",
    "cat = list(X_train.select_dtypes('category').columns)\n",
    "\n",
    "num_scaled = X_train[num]\n",
    "for i in num:\n",
    "    num_scaled[i] = num_scaled[i].apply(lambda x: (x - num_scaled[i].min())/(num_scaled[i].max() - num_scaled[i].min()))\n",
    "    \n",
    "encoder = OneHotEncoder().fit(X[cat])\n",
    "cat_encoded = encoder.transform(X_train[cat]).toarray()\n",
    "\n",
    "X_train = np.concatenate([num_scaled, cat_encoded], axis=1)"
   ]
  },
  {
   "cell_type": "code",
   "execution_count": 109,
   "metadata": {},
   "outputs": [
    {
     "data": {
      "text/html": [
       "<style>#sk-container-id-4 {color: black;background-color: white;}#sk-container-id-4 pre{padding: 0;}#sk-container-id-4 div.sk-toggleable {background-color: white;}#sk-container-id-4 label.sk-toggleable__label {cursor: pointer;display: block;width: 100%;margin-bottom: 0;padding: 0.3em;box-sizing: border-box;text-align: center;}#sk-container-id-4 label.sk-toggleable__label-arrow:before {content: \"▸\";float: left;margin-right: 0.25em;color: #696969;}#sk-container-id-4 label.sk-toggleable__label-arrow:hover:before {color: black;}#sk-container-id-4 div.sk-estimator:hover label.sk-toggleable__label-arrow:before {color: black;}#sk-container-id-4 div.sk-toggleable__content {max-height: 0;max-width: 0;overflow: hidden;text-align: left;background-color: #f0f8ff;}#sk-container-id-4 div.sk-toggleable__content pre {margin: 0.2em;color: black;border-radius: 0.25em;background-color: #f0f8ff;}#sk-container-id-4 input.sk-toggleable__control:checked~div.sk-toggleable__content {max-height: 200px;max-width: 100%;overflow: auto;}#sk-container-id-4 input.sk-toggleable__control:checked~label.sk-toggleable__label-arrow:before {content: \"▾\";}#sk-container-id-4 div.sk-estimator input.sk-toggleable__control:checked~label.sk-toggleable__label {background-color: #d4ebff;}#sk-container-id-4 div.sk-label input.sk-toggleable__control:checked~label.sk-toggleable__label {background-color: #d4ebff;}#sk-container-id-4 input.sk-hidden--visually {border: 0;clip: rect(1px 1px 1px 1px);clip: rect(1px, 1px, 1px, 1px);height: 1px;margin: -1px;overflow: hidden;padding: 0;position: absolute;width: 1px;}#sk-container-id-4 div.sk-estimator {font-family: monospace;background-color: #f0f8ff;border: 1px dotted black;border-radius: 0.25em;box-sizing: border-box;margin-bottom: 0.5em;}#sk-container-id-4 div.sk-estimator:hover {background-color: #d4ebff;}#sk-container-id-4 div.sk-parallel-item::after {content: \"\";width: 100%;border-bottom: 1px solid gray;flex-grow: 1;}#sk-container-id-4 div.sk-label:hover label.sk-toggleable__label {background-color: #d4ebff;}#sk-container-id-4 div.sk-serial::before {content: \"\";position: absolute;border-left: 1px solid gray;box-sizing: border-box;top: 0;bottom: 0;left: 50%;z-index: 0;}#sk-container-id-4 div.sk-serial {display: flex;flex-direction: column;align-items: center;background-color: white;padding-right: 0.2em;padding-left: 0.2em;position: relative;}#sk-container-id-4 div.sk-item {position: relative;z-index: 1;}#sk-container-id-4 div.sk-parallel {display: flex;align-items: stretch;justify-content: center;background-color: white;position: relative;}#sk-container-id-4 div.sk-item::before, #sk-container-id-4 div.sk-parallel-item::before {content: \"\";position: absolute;border-left: 1px solid gray;box-sizing: border-box;top: 0;bottom: 0;left: 50%;z-index: -1;}#sk-container-id-4 div.sk-parallel-item {display: flex;flex-direction: column;z-index: 1;position: relative;background-color: white;}#sk-container-id-4 div.sk-parallel-item:first-child::after {align-self: flex-end;width: 50%;}#sk-container-id-4 div.sk-parallel-item:last-child::after {align-self: flex-start;width: 50%;}#sk-container-id-4 div.sk-parallel-item:only-child::after {width: 0;}#sk-container-id-4 div.sk-dashed-wrapped {border: 1px dashed gray;margin: 0 0.4em 0.5em 0.4em;box-sizing: border-box;padding-bottom: 0.4em;background-color: white;}#sk-container-id-4 div.sk-label label {font-family: monospace;font-weight: bold;display: inline-block;line-height: 1.2em;}#sk-container-id-4 div.sk-label-container {text-align: center;}#sk-container-id-4 div.sk-container {/* jupyter's `normalize.less` sets `[hidden] { display: none; }` but bootstrap.min.css set `[hidden] { display: none !important; }` so we also need the `!important` here to be able to override the default hidden behavior on the sphinx rendered scikit-learn.org. See: https://github.com/scikit-learn/scikit-learn/issues/21755 */display: inline-block !important;position: relative;}#sk-container-id-4 div.sk-text-repr-fallback {display: none;}</style><div id=\"sk-container-id-4\" class=\"sk-top-container\"><div class=\"sk-text-repr-fallback\"><pre>GridSearchCV(estimator=Ridge(),\n",
       "             param_grid={&#x27;alpha&#x27;: array([1.00000000e-04, 2.05061224e-02, 4.09122449e-02, 6.13183673e-02,\n",
       "       8.17244898e-02, 1.02130612e-01, 1.22536735e-01, 1.42942857e-01,\n",
       "       1.63348980e-01, 1.83755102e-01, 2.04161224e-01, 2.24567347e-01,\n",
       "       2.44973469e-01, 2.65379592e-01, 2.85785714e-01, 3.06191837e-01,\n",
       "       3.26597959e-01, 3.47004082e-01, 3.67410204e-01, 3.87816...\n",
       "       4.89846939e-01, 5.10253061e-01, 5.30659184e-01, 5.51065306e-01,\n",
       "       5.71471429e-01, 5.91877551e-01, 6.12283673e-01, 6.32689796e-01,\n",
       "       6.53095918e-01, 6.73502041e-01, 6.93908163e-01, 7.14314286e-01,\n",
       "       7.34720408e-01, 7.55126531e-01, 7.75532653e-01, 7.95938776e-01,\n",
       "       8.16344898e-01, 8.36751020e-01, 8.57157143e-01, 8.77563265e-01,\n",
       "       8.97969388e-01, 9.18375510e-01, 9.38781633e-01, 9.59187755e-01,\n",
       "       9.79593878e-01, 1.00000000e+00])})</pre><b>In a Jupyter environment, please rerun this cell to show the HTML representation or trust the notebook. <br />On GitHub, the HTML representation is unable to render, please try loading this page with nbviewer.org.</b></div><div class=\"sk-container\" hidden><div class=\"sk-item sk-dashed-wrapped\"><div class=\"sk-label-container\"><div class=\"sk-label sk-toggleable\"><input class=\"sk-toggleable__control sk-hidden--visually\" id=\"sk-estimator-id-10\" type=\"checkbox\" ><label for=\"sk-estimator-id-10\" class=\"sk-toggleable__label sk-toggleable__label-arrow\">GridSearchCV</label><div class=\"sk-toggleable__content\"><pre>GridSearchCV(estimator=Ridge(),\n",
       "             param_grid={&#x27;alpha&#x27;: array([1.00000000e-04, 2.05061224e-02, 4.09122449e-02, 6.13183673e-02,\n",
       "       8.17244898e-02, 1.02130612e-01, 1.22536735e-01, 1.42942857e-01,\n",
       "       1.63348980e-01, 1.83755102e-01, 2.04161224e-01, 2.24567347e-01,\n",
       "       2.44973469e-01, 2.65379592e-01, 2.85785714e-01, 3.06191837e-01,\n",
       "       3.26597959e-01, 3.47004082e-01, 3.67410204e-01, 3.87816...\n",
       "       4.89846939e-01, 5.10253061e-01, 5.30659184e-01, 5.51065306e-01,\n",
       "       5.71471429e-01, 5.91877551e-01, 6.12283673e-01, 6.32689796e-01,\n",
       "       6.53095918e-01, 6.73502041e-01, 6.93908163e-01, 7.14314286e-01,\n",
       "       7.34720408e-01, 7.55126531e-01, 7.75532653e-01, 7.95938776e-01,\n",
       "       8.16344898e-01, 8.36751020e-01, 8.57157143e-01, 8.77563265e-01,\n",
       "       8.97969388e-01, 9.18375510e-01, 9.38781633e-01, 9.59187755e-01,\n",
       "       9.79593878e-01, 1.00000000e+00])})</pre></div></div></div><div class=\"sk-parallel\"><div class=\"sk-parallel-item\"><div class=\"sk-item\"><div class=\"sk-label-container\"><div class=\"sk-label sk-toggleable\"><input class=\"sk-toggleable__control sk-hidden--visually\" id=\"sk-estimator-id-11\" type=\"checkbox\" ><label for=\"sk-estimator-id-11\" class=\"sk-toggleable__label sk-toggleable__label-arrow\">estimator: Ridge</label><div class=\"sk-toggleable__content\"><pre>Ridge()</pre></div></div></div><div class=\"sk-serial\"><div class=\"sk-item\"><div class=\"sk-estimator sk-toggleable\"><input class=\"sk-toggleable__control sk-hidden--visually\" id=\"sk-estimator-id-12\" type=\"checkbox\" ><label for=\"sk-estimator-id-12\" class=\"sk-toggleable__label sk-toggleable__label-arrow\">Ridge</label><div class=\"sk-toggleable__content\"><pre>Ridge()</pre></div></div></div></div></div></div></div></div></div></div>"
      ],
      "text/plain": [
       "GridSearchCV(estimator=Ridge(),\n",
       "             param_grid={'alpha': array([1.00000000e-04, 2.05061224e-02, 4.09122449e-02, 6.13183673e-02,\n",
       "       8.17244898e-02, 1.02130612e-01, 1.22536735e-01, 1.42942857e-01,\n",
       "       1.63348980e-01, 1.83755102e-01, 2.04161224e-01, 2.24567347e-01,\n",
       "       2.44973469e-01, 2.65379592e-01, 2.85785714e-01, 3.06191837e-01,\n",
       "       3.26597959e-01, 3.47004082e-01, 3.67410204e-01, 3.87816...\n",
       "       4.89846939e-01, 5.10253061e-01, 5.30659184e-01, 5.51065306e-01,\n",
       "       5.71471429e-01, 5.91877551e-01, 6.12283673e-01, 6.32689796e-01,\n",
       "       6.53095918e-01, 6.73502041e-01, 6.93908163e-01, 7.14314286e-01,\n",
       "       7.34720408e-01, 7.55126531e-01, 7.75532653e-01, 7.95938776e-01,\n",
       "       8.16344898e-01, 8.36751020e-01, 8.57157143e-01, 8.77563265e-01,\n",
       "       8.97969388e-01, 9.18375510e-01, 9.38781633e-01, 9.59187755e-01,\n",
       "       9.79593878e-01, 1.00000000e+00])})"
      ]
     },
     "execution_count": 109,
     "metadata": {},
     "output_type": "execute_result"
    }
   ],
   "source": [
    "model_ridge = Ridge()\n",
    "alpha_grid = np.linspace(0.0001, 50, 50)\n",
    "model_combined_optimal = GridSearchCV(model_ridge, \n",
    "                             param_grid = {'alpha': np.linspace(0.0001, 1, 50)})\n",
    "model_combined_optimal.fit(X_train,y_train)"
   ]
  },
  {
   "cell_type": "code",
   "execution_count": 110,
   "metadata": {},
   "outputs": [
    {
     "data": {
      "text/plain": [
       "{'alpha': 1.0}"
      ]
     },
     "execution_count": 110,
     "metadata": {},
     "output_type": "execute_result"
    }
   ],
   "source": [
    "model_combined_optimal.best_params_"
   ]
  },
  {
   "cell_type": "code",
   "execution_count": 111,
   "metadata": {},
   "outputs": [
    {
     "data": {
      "text/plain": [
       "0.45253012120898506"
      ]
     },
     "execution_count": 111,
     "metadata": {},
     "output_type": "execute_result"
    }
   ],
   "source": [
    "model_combined_optimal.score(X_train,y_train)"
   ]
  },
  {
   "cell_type": "code",
   "execution_count": 112,
   "metadata": {},
   "outputs": [
    {
     "name": "stderr",
     "output_type": "stream",
     "text": [
      "<ipython-input-112-58db4fccd799>:6: SettingWithCopyWarning: \n",
      "A value is trying to be set on a copy of a slice from a DataFrame.\n",
      "Try using .loc[row_indexer,col_indexer] = value instead\n",
      "\n",
      "See the caveats in the documentation: https://pandas.pydata.org/pandas-docs/stable/user_guide/indexing.html#returning-a-view-versus-a-copy\n",
      "  num_scaled[i] = num_scaled[i].apply(lambda x: (x - num_scaled[i].min())/(num_scaled[i].max() - num_scaled[i].min()))\n"
     ]
    }
   ],
   "source": [
    "num = list(X_test.select_dtypes('number').columns)\n",
    "cat = list(X_test.select_dtypes('category').columns)\n",
    "\n",
    "num_scaled = X_test[num]\n",
    "for i in num:\n",
    "    num_scaled[i] = num_scaled[i].apply(lambda x: (x - num_scaled[i].min())/(num_scaled[i].max() - num_scaled[i].min()))\n",
    "\n",
    "cat_encoded = encoder.transform(X_test[cat]).toarray()\n",
    "\n",
    "X_test = np.concatenate([num_scaled, cat_encoded], axis=1)"
   ]
  },
  {
   "cell_type": "code",
   "execution_count": 113,
   "metadata": {},
   "outputs": [
    {
     "data": {
      "text/plain": [
       "0.40271980311227584"
      ]
     },
     "execution_count": 113,
     "metadata": {},
     "output_type": "execute_result"
    }
   ],
   "source": [
    "model_combined_optimal.score(X_test,y_test)"
   ]
  },
  {
   "cell_type": "code",
   "execution_count": null,
   "metadata": {},
   "outputs": [],
   "source": []
  },
  {
   "cell_type": "code",
   "execution_count": 26,
   "metadata": {},
   "outputs": [],
   "source": []
  },
  {
   "cell_type": "code",
   "execution_count": null,
   "metadata": {},
   "outputs": [],
   "source": []
  },
  {
   "cell_type": "code",
   "execution_count": null,
   "metadata": {},
   "outputs": [],
   "source": []
  }
 ],
 "metadata": {
  "kernelspec": {
   "display_name": "Python 3",
   "language": "python",
   "name": "python3"
  }
 },
 "nbformat": 4,
 "nbformat_minor": 5
}
